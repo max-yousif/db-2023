{
 "cells": [
  {
   "cell_type": "markdown",
   "metadata": {},
   "source": [
    "# PROJECT GEGEVENSBANKEN - SQL"
   ]
  },
  {
   "cell_type": "markdown",
   "metadata": {
    "tags": []
   },
   "source": [
    "# Imports"
   ]
  },
  {
   "cell_type": "code",
   "execution_count": null,
   "metadata": {},
   "outputs": [],
   "source": [
    "# Setup\n",
    "import sys\n",
    "import getpass  # Package om een paswoordveldje te genereren.\n",
    "import json  # Package om .json files in te laden (bvb kolomnamen zijn zo opgeslagen)\n",
    "import mysql.connector  # MySQL package\n",
    "import pandas as pd  # Populaire package voor data-verwerking\n",
    "\n",
    "from pathlib import Path\n",
    "from inspect import getsource"
   ]
  },
  {
   "cell_type": "code",
   "execution_count": null,
   "metadata": {},
   "outputs": [],
   "source": [
    "# Imports van binnen onze eigen repository\n",
    "sys.path.append(str(Path().absolute().parent / \"src\"))\n",
    "\n",
    "from db_project import (\n",
    "    res_to_df,\n",
    "    toon_uitleg,\n",
    "    DOC_FPS,\n",
    "    DEMO_Q_PARAMS_FP,\n",
    "    ALL_Q_COLNAM_FP,\n",
    ")\n"
   ]
  },
  {
   "cell_type": "code",
   "execution_count": null,
   "metadata": {
    "toc-hr-collapsed": false
   },
   "outputs": [],
   "source": [
    "# Tekst en uitleg wordt ingelezen uit bestanden uit de `docs` folder.\n",
    "toon_uitleg(DOC_FPS.get(\"intro\"), sectie=[1, 2, 3])"
   ]
  },
  {
   "cell_type": "code",
   "execution_count": null,
   "metadata": {
    "scrolled": true
   },
   "outputs": [],
   "source": [
    "# Lees de dictionairy van kolomnamen in\n",
    "col_names = json.load(open(ALL_Q_COLNAM_FP, \"r\"))\n",
    "\n",
    "# Inspecteer de dictionairy van kolomnamen\n",
    "for k, v in col_names.items():\n",
    "    msg = \"Kolomnamen van {}: {} \\n\".format(k, v)\n",
    "    print(msg)"
   ]
  },
  {
   "cell_type": "code",
   "execution_count": null,
   "metadata": {},
   "outputs": [],
   "source": [
    "toon_uitleg(DOC_FPS.get(\"instructions\"), sectie=[1, 2])"
   ]
  },
  {
   "cell_type": "code",
   "execution_count": null,
   "metadata": {},
   "outputs": [],
   "source": [
    "# Voorbeeld-query (oplossing)\n",
    "def query_voorbeeld(connection, column_names, homeruns=20):\n",
    "    # Bouw je query\n",
    "    query = \"\"\"\n",
    "    select    t.name, t.yearID, t.HR\n",
    "    from      Teams as t\n",
    "    where     t.HR > {}\n",
    "    order by  t.HR DESC;\n",
    "    \"\"\".format(\n",
    "        homeruns\n",
    "    )\n",
    "    # TIP: Met \"format\" krijg je parameters in de string (samen met `{}` in de string zelf)\n",
    "\n",
    "    # Stap 2 & 3\n",
    "    res = run_query(connection, query)  # Query uitvoeren\n",
    "    df = res_to_df(res, column_names)  # Query in DataFrame brengen\n",
    "\n",
    "    return df"
   ]
  },
  {
   "cell_type": "code",
   "execution_count": null,
   "metadata": {},
   "outputs": [],
   "source": [
    "toon_uitleg(DOC_FPS.get(\"instructions\"), sectie=3)"
   ]
  },
  {
   "cell_type": "code",
   "execution_count": null,
   "metadata": {},
   "outputs": [],
   "source": [
    "def verbind_met_GB(username, hostname, gegevensbanknaam, password=None, poort=3306):\n",
    "    \"\"\"\n",
    "    Maak verbinding met een externe gegevensbank\n",
    "\n",
    "    Parameters\n",
    "    ----------\n",
    "\n",
    "    username:           str\n",
    "                        Username van de gebruiker\n",
    "    hostname            str\n",
    "                        Naam van de host. In het geval van lokale server 'localhost'\n",
    "    gegevensbanknaam    str\n",
    "                        Naam van de gegevensbank\n",
    "    password            str, None\n",
    "                        Wachtwoord kan al meegegeven worden. Indien niet, wordt\n",
    "                        een wachtwoordveldje gegenereerd waar de gebruiker het\n",
    "                        kan ingeven.\n",
    "    poort               int, defaults to 3306\n",
    "                        poort waarop MySQL luistert. Typisch is dat op poort 3306, \n",
    "                        maar variaties zijn mogelijk.\n",
    "    Returns\n",
    "    -------\n",
    "    connection          connection object\n",
    "                        Dit is het soort object dat wordt teruggeven door\n",
    "                        connect() methods van packages die voldoen aan de DB-API\n",
    "\n",
    "    \"\"\"\n",
    "    \n",
    "    #Implementeer hier de functie\n",
    "\n",
    "\n",
    "def run_query(connection, query):\n",
    "    \"\"\"\n",
    "    Voer een query uit op een bestaande connection.\n",
    "\n",
    "    Geeft het resultaat van de query terug.\n",
    "\n",
    "    Parameters\n",
    "    ----------\n",
    "    connection      connection object\n",
    "                    Dit is het soort object dat wordt teruggeven door\n",
    "                    connect() methods van packages die voldoen aan de DB-API\n",
    "    query           str\n",
    "                    SQL-query geschreven als een gewone string\n",
    "\n",
    "    Returns\n",
    "    -------\n",
    "\n",
    "    \"\"\"\n",
    "    \n",
    "     #Implementeer hier de functie\n",
    "\n"
   ]
  },
  {
   "cell_type": "code",
   "execution_count": null,
   "metadata": {
    "hidden": true
   },
   "outputs": [],
   "source": [
    "# Verbindingsobject aanmaken\n",
    "\n",
    "username = 'root'      # Vervang dit als je via een andere user queries stuurt\n",
    "hostname = 'localhost' # Als je een databank lokaal draait, is de hostname meestal gewoon \"localhost\"\n",
    "db = 'lahman2016'          # Naam van de gegevensbank op je XAMPP Mysql server\n",
    "\n",
    "# We verbinden met de gegevensbank, deze functie heeft als output een `connection-object`.\n",
    "c = verbind_met_GB(username, hostname, db, password='')"
   ]
  },
  {
   "cell_type": "code",
   "execution_count": null,
   "metadata": {
    "hidden": true
   },
   "outputs": [],
   "source": [
    "# Voorbeeldquery runnen, resultaat ophalen en inspecteren.\n",
    "\n",
    "# De query-functie verwacht als tweede parameter de kolomnamen van het resultaat.\n",
    "kolomnamen_voorbeeldquery = [\"name\", \"yearID\", \"HR\"]\n",
    "\n",
    "# Query-functie uitvoeren, geeft resultaat van de query in een DataFrame\n",
    "df = query_voorbeeld(c, kolomnamen_voorbeeldquery, homeruns=10)   \n",
    "\n",
    "# Inspecteer laatste resultaten (laat. tail() weg om alles te zien)\n",
    "df.tail()            "
   ]
  },
  {
   "cell_type": "code",
   "execution_count": null,
   "metadata": {
    "hidden": true
   },
   "outputs": [],
   "source": [
    "# EXTRA: Query runnen met andere parameterwaarde\n",
    "df = query_voorbeeld(c, kolomnamen_voorbeeldquery, homeruns=30)\n",
    "df.tail()                                                "
   ]
  },
  {
   "cell_type": "markdown",
   "metadata": {},
   "source": [
    "## 3. Queries"
   ]
  },
  {
   "cell_type": "code",
   "execution_count": null,
   "metadata": {},
   "outputs": [],
   "source": [
    "toon_uitleg(DOC_FPS.get(\"query_description\"), sectie=1)"
   ]
  },
  {
   "cell_type": "code",
   "execution_count": null,
   "metadata": {},
   "outputs": [],
   "source": [
    "def query_01(connection, column_names, X=1980, Y=50):\n",
    "\n",
    "    # Bouw je query\n",
    "    query = \"\"\"\n",
    "    maak hier je query\"\"\"\n",
    "\n",
    "    # Stap 2 & 3\n",
    "    res = run_query(connection, query)  # Query uitvoeren\n",
    "    df = res_to_df(res, column_names)  # Query in DataFrame brengen\n",
    "\n",
    "    return df"
   ]
  },
  {
   "cell_type": "code",
   "execution_count": null,
   "metadata": {},
   "outputs": [],
   "source": [
    "toon_uitleg(DOC_FPS.get(\"query_description\"), sectie=2)"
   ]
  },
  {
   "cell_type": "code",
   "execution_count": null,
   "metadata": {},
   "outputs": [],
   "source": [
    "def query_02(connection, column_names, X=\"'USA'\", Y=40):\n",
    "\n",
    "    # Bouw je query\n",
    "    query = \"\"\"\n",
    "    maak hier je query\"\"\"\n",
    "\n",
    "    # Stap 2 & 3\n",
    "    res = run_query(connection, query)  # Query uitvoeren\n",
    "    df = res_to_df(res, column_names)  # Query in DataFrame brengen\n",
    "\n",
    "    return df"
   ]
  },
  {
   "cell_type": "code",
   "execution_count": null,
   "metadata": {},
   "outputs": [],
   "source": [
    "toon_uitleg(DOC_FPS.get(\"query_description\"), sectie=3)"
   ]
  },
  {
   "cell_type": "code",
   "execution_count": null,
   "metadata": {},
   "outputs": [],
   "source": [
    "def query_03(connection, column_names, X=1940, Y=1980, Z=1):\n",
    "\n",
    "    # Bouw je query\n",
    "    query = \"\"\"\n",
    "    maak hier je query\"\"\"\n",
    "\n",
    "    # Stap 2 & 3\n",
    "    res = run_query(connection, query)  # Query uitvoeren\n",
    "    df = res_to_df(res, column_names)  # Query in DataFrame brengen\n",
    "\n",
    "    return df"
   ]
  },
  {
   "cell_type": "code",
   "execution_count": null,
   "metadata": {},
   "outputs": [],
   "source": [
    "toon_uitleg(DOC_FPS.get(\"query_description\"), sectie=4)"
   ]
  },
  {
   "cell_type": "code",
   "execution_count": null,
   "metadata": {},
   "outputs": [],
   "source": [
    "def query_04(connection, column_names, X=1940, Y=3):\n",
    "\n",
    "    # Bouw je query\n",
    "    query = \"\"\"\n",
    "    maak hier je query\"\"\"\n",
    "\n",
    "    # Stap 2 & 3\n",
    "    res = run_query(connection, query)  # Query uitvoeren\n",
    "    df = res_to_df(res, column_names)  # Query in DataFrame brengen\n",
    "\n",
    "    return df"
   ]
  },
  {
   "cell_type": "code",
   "execution_count": null,
   "metadata": {
    "scrolled": true
   },
   "outputs": [],
   "source": [
    "toon_uitleg(DOC_FPS.get(\"query_description\"), sectie=5)"
   ]
  },
  {
   "cell_type": "code",
   "execution_count": null,
   "metadata": {},
   "outputs": [],
   "source": [
    "def query_05(connection, column_names, X=1960):\n",
    "\n",
    "    # Bouw je query\n",
    "    query = \"\"\"\n",
    "    maak hier je query\"\"\"\n",
    "\n",
    "    # Stap 2 & 3\n",
    "    res = run_query(connection, query)  # Query uitvoeren\n",
    "    df = res_to_df(res, column_names)  # Query in DataFrame brengen\n",
    "\n",
    "    return df"
   ]
  },
  {
   "cell_type": "code",
   "execution_count": null,
   "metadata": {
    "scrolled": true
   },
   "outputs": [],
   "source": [
    "toon_uitleg(DOC_FPS.get(\"query_description\"), sectie=6)"
   ]
  },
  {
   "cell_type": "code",
   "execution_count": null,
   "metadata": {},
   "outputs": [],
   "source": [
    "def query_06(connection, column_names, X=\"'TX'\"):\n",
    "    \n",
    "    # Bouw je query\n",
    "    query = \"\"\"\n",
    "    maak hier je query\"\"\"\n",
    "    # Stap 2 & 3\n",
    "    res = run_query(connection, query)  # Query uitvoeren\n",
    "    df = res_to_df(res, column_names)  # Query in DataFrame brengen\n",
    "\n",
    "    return df\n"
   ]
  },
  {
   "cell_type": "code",
   "execution_count": null,
   "metadata": {
    "scrolled": true
   },
   "outputs": [],
   "source": [
    "toon_uitleg(DOC_FPS.get(\"query_description\"), sectie=7)"
   ]
  },
  {
   "cell_type": "code",
   "execution_count": null,
   "metadata": {},
   "outputs": [],
   "source": [
    "def query_07(connection, column_names,  X=2, Y=500):\n",
    "\n",
    "    # Bouw je query\n",
    "    query = \"\"\"\n",
    "    maak hier je query\"\"\"\n",
    "\n",
    "    # Stap 2 & 3\n",
    "    res = run_query(connection, query)  # Query uitvoeren\n",
    "    df = res_to_df(res, column_names)  # Query in DataFrame brengen\n",
    "\n",
    "    return df\n"
   ]
  },
  {
   "cell_type": "code",
   "execution_count": null,
   "metadata": {},
   "outputs": [],
   "source": [
    "toon_uitleg(DOC_FPS.get(\"query_description\"), sectie=8)"
   ]
  },
  {
   "cell_type": "code",
   "execution_count": null,
   "metadata": {},
   "outputs": [],
   "source": [
    "def query_08(connection, column_names):\n",
    "\n",
    "    # Bouw je 1ste query die de tabel opbouwt\n",
    "    query = \"\"\"\n",
    "    maak hier je query\"\"\"\n",
    "\n",
    "    \n",
    "    try:\n",
    "        run_query(connection, query)  # Query uitvoeren\n",
    "    except Exception as e:\n",
    "        print(e)\n",
    "        \n",
    "        \n",
    "    #bouw je 2de query die alle resultaten uit die tabel opvraagt\n",
    "    query = \"\"\"\n",
    "    Maak hier je query\n",
    "    \"\"\"\n",
    "\n",
    "    # Stap 2 & 3\n",
    "    res = run_query(connection, query)  # Query uitvoeren\n",
    "    df = res_to_df(res, column_names)  # Query in DataFrame brengen\n",
    "\n",
    "    return df    \n",
    "      \n",
    "   \n"
   ]
  },
  {
   "cell_type": "code",
   "execution_count": null,
   "metadata": {},
   "outputs": [],
   "source": [
    "toon_uitleg(DOC_FPS.get(\"query_description\"), sectie=9)"
   ]
  },
  {
   "cell_type": "code",
   "execution_count": null,
   "metadata": {},
   "outputs": [],
   "source": [
    "def query_09(connection, column_names, X=4):\n",
    "\n",
    "     # Bouw je query die de gevraagde waardes verwijdert\n",
    "    query = \"\"\"\n",
    "    maak hier je query\"\"\"\n",
    "\n",
    "    # Stap 2 & 3\n",
    "    try:\n",
    "        run_query(connection, query)  # Query uitvoeren\n",
    "    except Exception as e:\n",
    "        print(e)\n",
    "   \n",
    "\n",
    "    # Bouw je query die alle resultaten uit de geupdate tabel opvraagt\n",
    "    query = \"\"\"\n",
    "    maak hier je query\"\"\"\n",
    "\n",
    "    # Stap 2 & 3\n",
    "    res = run_query(connection, query)  # Query uitvoeren\n",
    "    df = res_to_df(res, column_names)  # Query in DataFrame brengen\n",
    "\n",
    "    return df\n"
   ]
  },
  {
   "cell_type": "code",
   "execution_count": null,
   "metadata": {},
   "outputs": [],
   "source": [
    "toon_uitleg(DOC_FPS.get(\"query_description\"), sectie=10)"
   ]
  },
  {
   "cell_type": "code",
   "execution_count": null,
   "metadata": {},
   "outputs": [],
   "source": [
    "def query_10(connection, column_names,  X=1990, Y=91):\n",
    "\n",
    "    # Bouw je query\n",
    "    query = \"\"\"\n",
    "    maak hier je query\"\"\"\n",
    "\n",
    "    # Stap 2 & 3\n",
    "    res = run_query(connection, query)  # Query uitvoeren\n",
    "    df = res_to_df(res, column_names)  # Query in DataFrame brengen\n",
    "\n",
    "    return df\n"
   ]
  },
  {
   "cell_type": "markdown",
   "metadata": {},
   "source": [
    "### Indienen"
   ]
  },
  {
   "cell_type": "code",
   "execution_count": null,
   "metadata": {},
   "outputs": [],
   "source": [
    "toon_uitleg(DOC_FPS.get(\"submissions\"), sectie=1)"
   ]
  }
 ],
 "metadata": {
  "kernelspec": {
   "display_name": "Python 3 (ipykernel)",
   "language": "python",
   "name": "python3"
  },
  "language_info": {
   "codemirror_mode": {
    "name": "ipython",
    "version": 3
   },
   "file_extension": ".py",
   "mimetype": "text/x-python",
   "name": "python",
   "nbconvert_exporter": "python",
   "pygments_lexer": "ipython3",
   "version": "3.7.11"
  },
  "toc": {
   "nav_menu": {},
   "number_sections": true,
   "sideBar": true,
   "skip_h1_title": true,
   "toc_cell": false,
   "toc_position": {
    "height": "887px",
    "left": "0px",
    "right": "1705px",
    "top": "107px",
    "width": "215px"
   },
   "toc_section_display": true,
   "toc_window_display": true
  },
  "toc-autonumbering": false
 },
 "nbformat": 4,
 "nbformat_minor": 4
}
